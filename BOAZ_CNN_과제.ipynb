{
  "cells": [
    {
      "cell_type": "code",
      "execution_count": 1,
      "metadata": {
        "id": "gaXvKTIYi6r6"
      },
      "outputs": [],
      "source": [
        "# 그럼 첫번째 레슨 : 라이브러리 불러오기\n",
        "\n",
        "#필요한 딥러닝 관련 라이브러리를 불러옵니다.\n",
        "\n",
        "import tensorflow as tf\n",
        "from tensorflow.keras import datasets, layers, models\n",
        "import matplotlib.pyplot as plt"
      ]
    },
    {
      "cell_type": "code",
      "execution_count": 2,
      "metadata": {
        "colab": {
          "base_uri": "https://localhost:8080/"
        },
        "id": "JQ4PgaVJjDaZ",
        "outputId": "68ba2a35-4d27-4e74-b8b4-b3117b362330"
      },
      "outputs": [
        {
          "name": "stdout",
          "output_type": "stream",
          "text": [
            "Downloading data from https://www.cs.toronto.edu/~kriz/cifar-10-python.tar.gz\n",
            "\u001b[1m170498071/170498071\u001b[0m \u001b[32m━━━━━━━━━━━━━━━━━━━━\u001b[0m\u001b[37m\u001b[0m \u001b[1m13s\u001b[0m 0us/step\n"
          ]
        }
      ],
      "source": [
        "# 🗂️ Step 2: 데이터 불러오기\n",
        "\n",
        "#CIFAR-10 데이터셋을 불러오고, 학습용/테스트용으로 분리합니다.\n",
        "\n",
        "(train_images, train_labels), (test_images, test_labels) = datasets.cifar10.load_data()\n"
      ]
    },
    {
      "cell_type": "markdown",
      "metadata": {
        "id": "-OVo3rOojEzw"
      },
      "source": [
        "## 과제1. 데이터의 구조를 살펴보세요. 사이즈는?"
      ]
    },
    {
      "cell_type": "code",
      "execution_count": 4,
      "metadata": {
        "colab": {
          "base_uri": "https://localhost:8080/"
        },
        "id": "4wOqxvIDjEzx",
        "outputId": "2690bff9-5a8c-483a-c0ae-cbf57db67f7d"
      },
      "outputs": [
        {
          "name": "stdout",
          "output_type": "stream",
          "text": [
            "학습 이미지 데이터의 shape: (50000, 32, 32, 3)\n",
            "학습 라벨 데이터의 shape: (50000, 1)\n",
            "테스트 이미지 데이터의 shape: (10000, 32, 32, 3)\n",
            "테스트 라벨 데이터의 shape: (10000, 1)\n"
          ]
        }
      ],
      "source": [
        "# 여기에서 확인해 보세요.\n",
        "print(\"학습 이미지 데이터의 shape:\", train_images.shape)\n",
        "print(\"학습 라벨 데이터의 shape:\", train_labels.shape)\n",
        "\n",
        "print(\"테스트 이미지 데이터의 shape:\", test_images.shape)\n",
        "print(\"테스트 라벨 데이터의 shape:\", test_labels.shape)"
      ]
    },
    {
      "cell_type": "code",
      "execution_count": 5,
      "metadata": {
        "id": "SvdfBtPFjLhm"
      },
      "outputs": [],
      "source": [
        "# 🏷️ Step 3: 클래스 이름 정의\n",
        "\n",
        "#CIFAR-10의 라벨은 숫자로 되어 있으므로, 사람이 이해할 수 있도록 이름을 부여합니다.\n",
        "class_names = ['airplane', 'automobile', 'bird', 'cat', 'deer',\n",
        "               'dog', 'frog', 'horse', 'ship', 'truck']"
      ]
    },
    {
      "cell_type": "markdown",
      "metadata": {
        "id": "b_6OT8DCjEzx"
      },
      "source": [
        "## 과제2. 아래 코드의 빈칸을 채워 CNN 모델을 완성해보세요.\n",
        "#### layer나 패딩 혹은 drop out, batch normalization을 추가해 가며 모델의 정확도 변화를 보는 것도 좋습니다."
      ]
    },
    {
      "cell_type": "code",
      "execution_count": 9,
      "metadata": {
        "colab": {
          "base_uri": "https://localhost:8080/"
        },
        "id": "b6KfEI2ljboP",
        "outputId": "8cf30de0-f24a-4056-85f7-576271d5df25"
      },
      "outputs": [
        {
          "name": "stderr",
          "output_type": "stream",
          "text": [
            "/usr/local/lib/python3.11/dist-packages/keras/src/layers/convolutional/base_conv.py:107: UserWarning: Do not pass an `input_shape`/`input_dim` argument to a layer. When using Sequential models, prefer using an `Input(shape)` object as the first layer in the model instead.\n",
            "  super().__init__(activity_regularizer=activity_regularizer, **kwargs)\n"
          ]
        }
      ],
      "source": [
        "# 🧱 Step 4: CNN 모델 구성\n",
        "# Convolution → MaxPooling → Flatten → Dense 구조로 CNN을 설계합니다.\n",
        "# 아래의 빈칸 (___)을 채워 모델을 완성해보세요.\n",
        "\n",
        "model = models.Sequential()\n",
        "\n",
        "# 첫 번째 합성곱 레이어\n",
        "model.add(layers.Conv2D(32, (3, 3), activation='relu', input_shape=(32, 32, 3)))  # TODO: 커널 개수 설정\n",
        "\n",
        "# 첫 번째 풀링 레이어\n",
        "model.add(layers.MaxPooling2D((2, 2)))  # TODO: 풀링 크기 설정\n",
        "\n",
        "# 두 번째 합성곱 레이어\n",
        "model.add(layers.Conv2D(64, (3, 3), activation='relu'))  # TODO: 커널 크기 설정\n",
        "\n",
        "# 두 번째 풀링 레이어\n",
        "model.add(layers.MaxPooling2D((2, 2)))\n",
        "\n",
        "# 세 번째 합성곱 레이어\n",
        "model.add(layers.Conv2D(64, (3, 3), activation='relu'))  # TODO: 커널 개수 설정\n",
        "\n",
        "# Flatten + Fully Connected Layer\n",
        "model.add(layers.Flatten())\n",
        "model.add(layers.Dense(64, activation='relu'))  # TODO: 은닉층 유닛 수 설정\n",
        "model.add(layers.Dense(10))  # 출력층: CIFAR-10은 클래스가 10개"
      ]
    },
    {
      "cell_type": "markdown",
      "metadata": {
        "id": "DQ6FyIxwjEzy"
      },
      "source": [
        "## 자신이 채운 코드를 기반으로 각 레이어별 Feature Map 크기를 계산해 보세요.\n",
        "(padding은 디폴트로 없습니다.)"
      ]
    },
    {
      "cell_type": "markdown",
      "metadata": {
        "id": "dqOr6e7SjEzy"
      },
      "source": [
        "Answer:\n",
        "1. ` Conv2D(32, (3, 3), activation='relu')`  : (32 - 3) + 1 x (32-  3) + 1 x 32 (커널 개수) -> **30 x 30 x 32**\n",
        "2. `MaxPooling2D((2, 2))` : (30-2) / 2 + 1 x (30-2) / 2 + 1 x 32 -> **15 x 15 x 32**\n",
        "3. `Conv2D(64, (3, 3), activation='relu')` : (15 - 3) + 1 x (15 - 3) + 1 x 64 -> **13 x 13 x 64**\n",
        "4. `MaxPooling2D((2, 2))` : (13 - 2) / 2 + 1 x (13 - 2) / 2 + 1 x 64 -> **6 x 6 x 64**\n",
        "5. `Conv2D(64, (3, 3), activation='relu')` : (6 - 3) + 1 x (6 - 3) + 1 x 64 -> **4 x 4 x 64**\n",
        "6. `Flatten()` : 4 x 4 x 64 -> **1024**\n"
      ]
    },
    {
      "cell_type": "code",
      "execution_count": 10,
      "metadata": {
        "id": "e5GLqIzikILD"
      },
      "outputs": [],
      "source": [
        "# ⚙️ Step 5: 모델 컴파일\n",
        "\n",
        "#모델을 학습할 수 있도록 컴파일합니다. 손실 함수, 최적화 방법, 평가지표를 설정합니다.\n",
        "\n",
        "model.compile(optimizer='adam',\n",
        "              loss=tf.keras.losses.SparseCategoricalCrossentropy(from_logits=True),\n",
        "              metrics=['accuracy'])"
      ]
    },
    {
      "cell_type": "code",
      "execution_count": 11,
      "metadata": {
        "colab": {
          "base_uri": "https://localhost:8080/",
          "height": 850
        },
        "id": "cqjOjt0rjEzy",
        "outputId": "ec82f95a-0778-45c6-e9d7-1e579fb28c48"
      },
      "outputs": [
        {
          "name": "stdout",
          "output_type": "stream",
          "text": [
            "Epoch 1/10\n",
            "\u001b[1m1563/1563\u001b[0m \u001b[32m━━━━━━━━━━━━━━━━━━━━\u001b[0m\u001b[37m\u001b[0m \u001b[1m9s\u001b[0m 4ms/step - accuracy: 0.2977 - loss: 2.4058 - val_accuracy: 0.4705 - val_loss: 1.4583\n",
            "Epoch 2/10\n",
            "\u001b[1m1563/1563\u001b[0m \u001b[32m━━━━━━━━━━━━━━━━━━━━\u001b[0m\u001b[37m\u001b[0m \u001b[1m4s\u001b[0m 3ms/step - accuracy: 0.5092 - loss: 1.3600 - val_accuracy: 0.5582 - val_loss: 1.2347\n",
            "Epoch 3/10\n",
            "\u001b[1m1563/1563\u001b[0m \u001b[32m━━━━━━━━━━━━━━━━━━━━\u001b[0m\u001b[37m\u001b[0m \u001b[1m4s\u001b[0m 3ms/step - accuracy: 0.5835 - loss: 1.1739 - val_accuracy: 0.5622 - val_loss: 1.2533\n",
            "Epoch 4/10\n",
            "\u001b[1m1563/1563\u001b[0m \u001b[32m━━━━━━━━━━━━━━━━━━━━\u001b[0m\u001b[37m\u001b[0m \u001b[1m4s\u001b[0m 3ms/step - accuracy: 0.6289 - loss: 1.0625 - val_accuracy: 0.6268 - val_loss: 1.0743\n",
            "Epoch 5/10\n",
            "\u001b[1m1563/1563\u001b[0m \u001b[32m━━━━━━━━━━━━━━━━━━━━\u001b[0m\u001b[37m\u001b[0m \u001b[1m4s\u001b[0m 3ms/step - accuracy: 0.6670 - loss: 0.9520 - val_accuracy: 0.6174 - val_loss: 1.1255\n",
            "Epoch 6/10\n",
            "\u001b[1m1563/1563\u001b[0m \u001b[32m━━━━━━━━━━━━━━━━━━━━\u001b[0m\u001b[37m\u001b[0m \u001b[1m4s\u001b[0m 3ms/step - accuracy: 0.6847 - loss: 0.8971 - val_accuracy: 0.6573 - val_loss: 1.0270\n",
            "Epoch 7/10\n",
            "\u001b[1m1563/1563\u001b[0m \u001b[32m━━━━━━━━━━━━━━━━━━━━\u001b[0m\u001b[37m\u001b[0m \u001b[1m4s\u001b[0m 3ms/step - accuracy: 0.7090 - loss: 0.8418 - val_accuracy: 0.6740 - val_loss: 0.9941\n",
            "Epoch 8/10\n",
            "\u001b[1m1563/1563\u001b[0m \u001b[32m━━━━━━━━━━━━━━━━━━━━\u001b[0m\u001b[37m\u001b[0m \u001b[1m4s\u001b[0m 3ms/step - accuracy: 0.7256 - loss: 0.7891 - val_accuracy: 0.6649 - val_loss: 1.0219\n",
            "Epoch 9/10\n",
            "\u001b[1m1563/1563\u001b[0m \u001b[32m━━━━━━━━━━━━━━━━━━━━\u001b[0m\u001b[37m\u001b[0m \u001b[1m4s\u001b[0m 3ms/step - accuracy: 0.7422 - loss: 0.7379 - val_accuracy: 0.6614 - val_loss: 1.0347\n",
            "Epoch 10/10\n",
            "\u001b[1m1563/1563\u001b[0m \u001b[32m━━━━━━━━━━━━━━━━━━━━\u001b[0m\u001b[37m\u001b[0m \u001b[1m4s\u001b[0m 3ms/step - accuracy: 0.7600 - loss: 0.6911 - val_accuracy: 0.6722 - val_loss: 1.0197\n",
            "313/313 - 1s - 2ms/step - accuracy: 0.6722 - loss: 1.0197\n"
          ]
        },
        {
          "data": {
            "image/png": "[encoded data removed]",
            "text/plain": [
              "<Figure size 640x480 with 1 Axes>"
            ]
          },
          "metadata": {},
          "output_type": "display_data"
        }
      ],
      "source": [
        "# 🔥 Step 6: 모델 학습 및 성능 평가\n",
        "\n",
        "history = model.fit(train_images, train_labels, epochs=10,\n",
        "                    validation_data=(test_images, test_labels))\n",
        "#모델 성능 평가\n",
        "plt.plot(history.history['accuracy'],label='accuracy')\n",
        "plt.plot(history.history['val_accuracy'],label = 'val_accuracy')\n",
        "plt.xlabel('Epoch')\n",
        "plt.ylabel('Accuracy')\n",
        "plt.ylim([0.5, 1])\n",
        "plt.legend(loc='lower right')\n",
        "\n",
        "test_loss, test_acc = model.evaluate(test_images,\n",
        "                                     test_labels,\n",
        "                                     verbose=2)\n"
      ]
    },
    {
      "cell_type": "code",
      "execution_count": 12,
      "metadata": {
        "colab": {
          "base_uri": "https://localhost:8080/"
        },
        "id": "Cc2Uh7qqlGAi",
        "outputId": "255aa05e-8971-42d4-d0ce-047e5171e67e"
      },
      "outputs": [
        {
          "name": "stdout",
          "output_type": "stream",
          "text": [
            "Test Accuracy is 0.6722000241279602\n"
          ]
        }
      ],
      "source": [
        "print('Test Accuracy is',test_acc)"
      ]
    },
    {
      "cell_type": "markdown",
      "metadata": {
        "id": "DWcGt_u6jEzy"
      },
      "source": [
        "## 과제3. 직접사용해 보기. 이미지를 로드하고 cifar-10의 사이즈로 리사이즈"
      ]
    },
    {
      "cell_type": "code",
      "execution_count": 14,
      "metadata": {
        "colab": {
          "base_uri": "https://localhost:8080/",
          "height": 446
        },
        "id": "Ka8GtI6ElKA2",
        "outputId": "f9da2ac1-632a-42a4-f3dc-d767dfa838de"
      },
      "outputs": [
        {
          "name": "stdout",
          "output_type": "stream",
          "text": [
            "\u001b[1m1/1\u001b[0m \u001b[32m━━━━━━━━━━━━━━━━━━━━\u001b[0m\u001b[37m\u001b[0m \u001b[1m0s\u001b[0m 437ms/step\n"
          ]
        },
        {
          "data": {
            "image/png": "[encoded data removed]",
            "text/plain": [
              "<Figure size 640x480 with 1 Axes>"
            ]
          },
          "metadata": {},
          "output_type": "display_data"
        }
      ],
      "source": [
        "import numpy as np\n",
        "from tensorflow.keras.preprocessing import image\n",
        "\n",
        "# 새 이미지를 로드하고 모델 예측 수행\n",
        "def predict_new_image(image_path, model, class_names):\n",
        "    # 이미지 로드 및 전처리\n",
        "    img = image.load_img(image_path, target_size=(32, 32))  # CIFAR-10 크기로 리사이즈 빈칸채우기\n",
        "    img_array = image.img_to_array(img)  # 이미지를 배열로 변환\n",
        "    img_array = np.expand_dims(img_array, axis=0)  # 배치를 위해 차원 추가\n",
        "    img_array = img_array / 255.0  # 정규화\n",
        "\n",
        "    # 예측 수행\n",
        "    predictions = model.predict(img_array)\n",
        "    predicted_class = np.argmax(predictions)  # 가장 높은 확률의 클래스 인덱스\n",
        "    class_name = class_names[predicted_class]  # 클래스 이름\n",
        "\n",
        "    # 결과 출력\n",
        "    plt.imshow(img)\n",
        "    plt.title(f\"Predicted: {class_name}\")\n",
        "    plt.axis('off')\n",
        "    plt.show()\n",
        "\n",
        "# 사용 예시\n",
        "image_path =  \"/content/IMG_0281.JPG\"\n",
        "predict_new_image(image_path, model, class_names)\n"
      ]
    },
    {
      "cell_type": "markdown",
      "metadata": {
        "id": "2oxtPd-KjEzy"
      },
      "source": [
        "## 왜 255.0으로 나누었을까요? 이미지 전처리에 대한 지식이니 조사해보세요."
      ]
    },
    {
      "cell_type": "markdown",
      "metadata": {
        "id": "0dOoQMkEjEzz"
      },
      "source": [
        "Answer: 일반적인 컬러 이미지는 각 픽셀이 0부터 255까지의 정수 값을 가진다. 이 때, 신경망에서 사용하는 활성화 함수는 보통 0~1 범위에서 잘 작동한다.\n",
        "\n",
        "\n",
        "따라서, **0에서 255 범위의 수를 0에서 1 범위로 정규화하기 위해** 255로 나누어주는 것이다."
      ]
    },
    {
      "cell_type": "markdown",
      "metadata": {
        "id": "-2r4hu5ajEzz"
      },
      "source": [
        "## 과제4. CNN의 inductive bias에 대해서 조사를 해보고 생각해 봅시다.\n",
        "### CNN은 왜 이미지 처리에 좋을까요? 이미지 말고도 CNN을 잘 쓸 수 있는데는 어디일까요?"
      ]
    },
    {
      "cell_type": "markdown",
      "metadata": {
        "id": "V_8qfI_bjEzz"
      },
      "source": [
        "Answer:\n",
        "## CNN이 이미지 처리에 좋은 이유\n",
        "\n",
        "CNN의 다음과 같은 특징이 이미지 처리 성능에 있어 도움을 준다.\n",
        "\n",
        "1. 지역성 : 이미지에서 작은 영역을 먼저 인식해서 전체를 이해함.\n",
        "2. 공간구조 보존 : 이미지 자체의 위치 정보를 유지하면서 특징을 추출함.\n",
        "3. 계층적 표현 학습 : 엣지 -> 모양 -> 객체 단위로 점점 복잡한 특징 학습 가능\n",
        "\n",
        "## 이미지 처리 외 CNN의 활용 분야\n",
        "\n",
        "위에서 말했듯이, CNN은 위치 정보를 저장하면서 인근의 데이터들을 묶어서 처리를 한다는 특징으로 인해 위치와 패턴이 중요한 데이터에 있어 매우 효과적으로 작동한다.\n",
        "\n",
        "이러한 특성이 나타나는 데이터는 다음과 같다.\n",
        "\n",
        "- 시계열 데이터\n",
        "- 음성, 오디오 처리\n",
        "- 유전체 분석\n",
        "\n",
        "위와 같은 분야에서도 CNN의 inductive bias를 살려 잘 사용할 수 있다."
      ]
    }
  ],
  "metadata": {
    "accelerator": "GPU",
    "colab": {
      "gpuType": "L4",
      "machine_shape": "hm",
      "provenance": []
    },
    "kernelspec": {
      "display_name": "Python 3",
      "name": "python3"
    },
    "language_info": {
      "codemirror_mode": {
        "name": "ipython",
        "version": 3
      },
      "file_extension": ".py",
      "mimetype": "text/x-python",
      "name": "python",
      "nbconvert_exporter": "python",
      "pygments_lexer": "ipython3",
      "version": "3.11.9"
    }
  },
  "nbformat": 4,
  "nbformat_minor": 0
}
